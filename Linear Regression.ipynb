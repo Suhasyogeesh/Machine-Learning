{
 "cells": [
  {
   "cell_type": "markdown",
   "metadata": {},
   "source": [
    "Building a linear regression model to predict the salary of a person on the basis of years of experience from scratch. You can download the dataset from the link given below.\n",
    "Link : https://drive.google.com/file/d/1_zb_oYEZZHu7TqfzncF6jyMufyf9Vj59/view?usp=sharing\n",
    "\n",
    "Let’s start with importing required libraries:"
   ]
  },
  {
   "cell_type": "code",
   "execution_count": 1,
   "metadata": {},
   "outputs": [],
   "source": [
    "%matplotlib inline\n",
    "import numpy as np\n",
    "import matplotlib.pyplot as plt\n",
    "import pandas as pd"
   ]
  },
  {
   "cell_type": "markdown",
   "metadata": {},
   "source": [
    "We are using dataset of 397 rows of data items consisting of features like years of experience and salary. Let’s visualize the dataset first."
   ]
  },
  {
   "cell_type": "code",
   "execution_count": 3,
   "metadata": {},
   "outputs": [
    {
     "data": {
      "image/png": "[encoded data removed]",
      "text/plain": [
       "<Figure size 432x288 with 1 Axes>"
      ]
     },
     "metadata": {
      "needs_background": "light"
     },
     "output_type": "display_data"
    }
   ],
   "source": [
    "dataset = pd.read_csv('salaries.csv')\n",
    "\n",
    "#Scatter Plot\n",
    "X = dataset['Years of Experience']\n",
    "Y = dataset['Salary']\n",
    "\n",
    "plt.scatter(X,Y,color='blue')\n",
    "plt.xlabel('Years of Experience')\n",
    "plt.ylabel('Salary')\n",
    "plt.title('Salary Prediction Curves')\n",
    "plt.show()"
   ]
  },
  {
   "cell_type": "code",
   "execution_count": 4,
   "metadata": {},
   "outputs": [],
   "source": [
    "def mean(values):\n",
    "    return sum(values)/float(len(values))"
   ]
  },
  {
   "cell_type": "code",
   "execution_count": 5,
   "metadata": {},
   "outputs": [],
   "source": [
    "#initializing inputs and outputs\n",
    "X = dataset['Years of Experience'].values\n",
    "Y = dataset['Salary'].values"
   ]
  },
  {
   "cell_type": "code",
   "execution_count": 11,
   "metadata": {},
   "outputs": [
    {
     "data": {
      "text/plain": [
       "0      18\n",
       "1      16\n",
       "2       3\n",
       "3      39\n",
       "4      41\n",
       "       ..\n",
       "392    30\n",
       "393    19\n",
       "394    25\n",
       "395    15\n",
       "396     4\n",
       "Name: Years of Experience, Length: 397, dtype: int64"
      ]
     },
     "execution_count": 11,
     "metadata": {},
     "output_type": "execute_result"
    }
   ],
   "source": [
    "X"
   ]
  },
  {
   "cell_type": "code",
   "execution_count": 12,
   "metadata": {},
   "outputs": [
    {
     "data": {
      "text/plain": [
       "array([139750, 173200,  79750, 115000, 141500,  97000, 175000, 147765,\n",
       "       119250, 129000, 119800,  79800,  77700,  78000, 104800, 117150,\n",
       "       101000, 103450, 124750, 137000,  89565, 102580,  93904, 113068,\n",
       "        74830, 106294, 134885,  82379,  77000, 118223, 132261,  79916,\n",
       "       117256,  80225,  80225,  77000, 155750,  86373, 125196, 100938,\n",
       "       146500,  93418, 101299, 231545,  94384, 114778,  98193, 151768,\n",
       "       140096,  70768, 126621, 108875,  74692, 106639, 103760,  83900,\n",
       "       117704,  90215, 100135,  75044,  90304,  75243, 109785, 103613,\n",
       "        68404, 100522, 101000,  99418, 111512,  91412, 126320, 146856,\n",
       "       100131,  92391, 113398,  73266, 150480, 193000,  86100,  84240,\n",
       "       150743, 135585, 144640,  88825, 122960, 132825, 152708,  88400,\n",
       "       172272, 107008,  97032, 105128, 105631, 166024, 123683,  84000,\n",
       "        95611, 129676, 102235, 106689, 133217, 126933, 153303, 127512,\n",
       "        83850, 113543,  82099,  82600,  81500, 131205, 112429,  82100,\n",
       "        72500, 104279, 105000, 120806, 148500, 117515,  72500,  73500,\n",
       "       115313, 124309,  97262,  62884,  96614,  78162, 155500,  72500,\n",
       "       113278,  73000,  83001,  76840,  77500,  72500, 168635, 136000,\n",
       "       108262, 105668,  73877, 152664, 100102,  81500, 106608,  89942,\n",
       "       112696, 119015,  92000, 156938, 144651,  95079, 128148,  92000,\n",
       "       111168, 103994,  92000, 118971, 113341,  88000,  95408, 137167,\n",
       "        89516, 176500,  98510,  89942,  88795, 105890, 167284, 130664,\n",
       "       101210, 181257,  91227, 151575,  93164, 134185, 105000, 111751,\n",
       "        95436, 100944, 147349,  92000, 142467, 141136, 100000, 150000,\n",
       "       101000, 134000, 103750, 107500, 106300, 153750, 180000, 133700,\n",
       "       122100,  86250,  90000, 113600,  92700,  92000, 189409, 114500,\n",
       "        92700, 119700, 160400, 152500, 165000,  96545, 162200, 120000,\n",
       "        91300, 163200,  91000, 111350, 128400, 126200, 118700, 145350,\n",
       "       146000, 105350, 109650, 119500, 170000, 145200, 107150, 129600,\n",
       "        87800, 122400,  63900,  70000,  88175, 133900,  91000,  73300,\n",
       "       148750, 117555,  69700,  81700, 114000,  63100,  77202,  96200,\n",
       "        69200, 122875, 102600, 108200,  84273,  90450,  91100, 101100,\n",
       "       128800, 204000, 109000, 102000, 132000,  77500, 116450,  83000,\n",
       "       140300,  74000,  73800,  92550,  88600, 107550, 121200, 126000,\n",
       "        99000, 134800, 143940, 104350,  89650, 103700, 143250, 194800,\n",
       "        73000,  74000,  78500,  93000, 107200, 163200, 107100, 100600,\n",
       "       136500, 103600,  57800, 155865,  88650,  81800, 115800,  85000,\n",
       "       150500,  74000, 174500, 168500, 183800, 104800, 107300,  97150,\n",
       "       126300, 148800,  72300,  70700,  88600, 127100, 170500, 105260,\n",
       "       144050, 111350,  74500, 122500,  74000, 166800,  92050, 108100,\n",
       "        94350, 100351, 146800,  84716,  71065,  67559, 134550, 135027,\n",
       "       104428,  95642, 126431, 161101, 162221,  84500, 124714, 151650,\n",
       "        99247, 134778, 192253, 116518, 105450, 145098, 104542, 151445,\n",
       "        98053, 145000, 128464, 137317, 106231, 124312, 114596, 162150,\n",
       "       150376, 107986, 142023, 128250,  80139, 144309, 186960,  93519,\n",
       "       142500, 138000,  83600, 145028,  88709, 107309, 109954,  78785,\n",
       "       121946, 109646, 138771,  81285, 205500, 101036, 115435, 108413,\n",
       "       131950, 134690,  78182, 110515, 109707, 136660, 103275, 103649,\n",
       "        74856,  77081, 150680, 104121,  75996, 172505,  86895, 105000,\n",
       "       125192, 114330, 139219, 109305, 119450, 186023, 166605, 151292,\n",
       "       103106, 150564, 101738,  95329,  81035], dtype=int64)"
      ]
     },
     "execution_count": 12,
     "metadata": {},
     "output_type": "execute_result"
    }
   ],
   "source": [
    "Y"
   ]
  },
  {
   "cell_type": "code",
   "execution_count": 10,
   "metadata": {},
   "outputs": [
    {
     "name": "stdout",
     "output_type": "stream",
     "text": [
      "X_mean =  17.614609571788414\n",
      "Y_mean =  113706.45843828715\n"
     ]
    }
   ],
   "source": [
    "#mean of our inputs and outputs\n",
    "x_mean = mean(X)\n",
    "y_mean = mean(Y)\n",
    "print('X_mean = ',x_mean)\n",
    "print('Y_mean = ',y_mean)"
   ]
  },
  {
   "cell_type": "code",
   "execution_count": 13,
   "metadata": {},
   "outputs": [
    {
     "data": {
      "text/plain": [
       "397"
      ]
     },
     "execution_count": 13,
     "metadata": {},
     "output_type": "execute_result"
    }
   ],
   "source": [
    "#total number of values\n",
    "n = len(X)\n",
    "n"
   ]
  },
  {
   "cell_type": "code",
   "execution_count": 8,
   "metadata": {},
   "outputs": [
    {
     "name": "stdout",
     "output_type": "stream",
     "text": [
      "779.569113694737 99974.65286632923\n"
     ]
    }
   ],
   "source": [
    "#using the formula to calculate the b1 and b0\n",
    "numerator = 0\n",
    "denominator = 0\n",
    "for i in range(n):\n",
    "    numerator += (X[i]-x_mean) * (Y[i] - y_mean)\n",
    "    denominator += (X[i]-x_mean) ** 2\n",
    "\n",
    "b1 = numerator / denominator\n",
    "b0 = y_mean - (b1 * x_mean)\n",
    "\n",
    "#print the oefficient\n",
    "print(b1,b0)"
   ]
  },
  {
   "cell_type": "code",
   "execution_count": 14,
   "metadata": {},
   "outputs": [],
   "source": [
    "def predict(x):\n",
    "    return(b0+b1*x)"
   ]
  },
  {
   "cell_type": "code",
   "execution_count": 18,
   "metadata": {},
   "outputs": [
    {
     "data": {
      "text/plain": [
       "111668.18957175028"
      ]
     },
     "execution_count": 18,
     "metadata": {},
     "output_type": "execute_result"
    }
   ],
   "source": [
    "#passing the year and predict the salary based on the experience\n",
    "predict(15)"
   ]
  },
  {
   "cell_type": "markdown",
   "metadata": {},
   "source": [
    "# Linear regression using SKLEARN"
   ]
  },
  {
   "cell_type": "code",
   "execution_count": 23,
   "metadata": {},
   "outputs": [
    {
     "data": {
      "text/plain": [
       "LinearRegression()"
      ]
     },
     "execution_count": 23,
     "metadata": {},
     "output_type": "execute_result"
    }
   ],
   "source": [
    "from sklearn.linear_model import LinearRegression\n",
    "\n",
    "X = dataset.drop(['Salary'],axis=1)                \n",
    "Y = dataset['Salary'] \n",
    "\n",
    "reg = LinearRegression()  #creating object reg\n",
    "reg.fit(X,Y)     # Fitting the Data set"
   ]
  },
  {
   "cell_type": "code",
   "execution_count": 21,
   "metadata": {},
   "outputs": [
    {
     "data": {
      "text/plain": [
       "array([111668.18957175])"
      ]
     },
     "execution_count": 21,
     "metadata": {},
     "output_type": "execute_result"
    }
   ],
   "source": [
    "y_pred = reg.predict([[15]])  \n",
    "y_pred"
   ]
  },
  {
   "cell_type": "code",
   "execution_count": null,
   "metadata": {},
   "outputs": [],
   "source": []
  }
 ],
 "metadata": {
  "kernelspec": {
   "display_name": "Python 3",
   "language": "python",
   "name": "python3"
  },
  "language_info": {
   "codemirror_mode": {
    "name": "ipython",
    "version": 3
   },
   "file_extension": ".py",
   "mimetype": "text/x-python",
   "name": "python",
   "nbconvert_exporter": "python",
   "pygments_lexer": "ipython3",
   "version": "3.8.5"
  }
 },
 "nbformat": 4,
 "nbformat_minor": 4
}
